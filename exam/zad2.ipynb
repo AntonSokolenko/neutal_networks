{
 "cells": [
  {
   "cell_type": "code",
   "execution_count": 41,
   "id": "55d97741-8611-48ef-a05a-3ba0d6d6a596",
   "metadata": {},
   "outputs": [
    {
     "name": "stdout",
     "output_type": "stream",
     "text": [
      "['Fire' 'Non-Fire']\n"
     ]
    }
   ],
   "source": [
    "import pathlib\n",
    "import numpy as np\n",
    "import keras\n",
    "data_dir = pathlib.Path(\"train/\")\n",
    "\n",
    "\n",
    "class_names = np.array(sorted([item.name for item in data_dir.glob('*')])) \n",
    "print(class_names)\n"
   ]
  },
  {
   "cell_type": "code",
   "execution_count": 42,
   "id": "e53a42ea-c608-42e8-82e8-38f16cff3b32",
   "metadata": {},
   "outputs": [],
   "source": [
    "import tensorflow as tf\n",
    "from tensorflow.keras.preprocessing.image import ImageDataGenerator\n",
    "\n",
    "# Set the seed\n",
    "tf.random.set_seed(42)\n",
    "\n",
    "# Preprocess data (get all of the pixel values between 1 and 0, also called scaling/normalization)\n",
    "train_datagen = ImageDataGenerator(rescale=1./255)\n",
    "valid_datagen = ImageDataGenerator(rescale=1./255)\n",
    "\n",
    "# Setup the train and test directories\n",
    "train_dir = \"test/\"\n",
    "test_dir = \"train/\""
   ]
  },
  {
   "cell_type": "code",
   "execution_count": 43,
   "id": "8ffb85bd-9a8b-4187-bcf7-1b553ce64fc0",
   "metadata": {},
   "outputs": [
    {
     "name": "stdout",
     "output_type": "stream",
     "text": [
      "Found 2000 images belonging to 2 classes.\n",
      "Found 6003 images belonging to 2 classes.\n"
     ]
    }
   ],
   "source": [
    "# Import data from directories and turn it into batches\n",
    "train_data = train_datagen.flow_from_directory(train_dir,\n",
    "                                               batch_size=32, # number of images to process at a time \n",
    "                                               target_size=(224, 224), # convert all images to be 224 x 224\n",
    "                                               class_mode=\"binary\", # type of problem we're working on\n",
    "                                               seed=42)\n",
    "\n",
    "valid_data = valid_datagen.flow_from_directory(test_dir,\n",
    "                                               batch_size=32,\n",
    "                                               target_size=(224, 224),\n",
    "                                               class_mode=\"binary\",\n",
    "                                               seed=42)"
   ]
  },
  {
   "cell_type": "markdown",
   "id": "6634bd84-523c-43b7-8285-ab883027dbd6",
   "metadata": {},
   "source": [
    "## Adam optimizer"
   ]
  },
  {
   "cell_type": "code",
   "execution_count": 44,
   "id": "2bc2adba-3d89-40fc-972d-1b7a89a6847f",
   "metadata": {},
   "outputs": [
    {
     "name": "stdout",
     "output_type": "stream",
     "text": [
      "Epoch 1/2\n",
      "63/63 [==============================] - 127s 2s/step - loss: 0.5281 - accuracy: 0.7340 - val_loss: 0.8962 - val_accuracy: 0.5832\n",
      "Epoch 2/2\n",
      "63/63 [==============================] - 130s 2s/step - loss: 0.3306 - accuracy: 0.8620 - val_loss: 0.9266 - val_accuracy: 0.6493\n"
     ]
    }
   ],
   "source": [
    "# Create a CNN model\n",
    "model_1 = tf.keras.models.Sequential([\n",
    "  tf.keras.layers.Conv2D(filters=4, \n",
    "                         kernel_size=3, # can also be (3, 3)\n",
    "                         activation=\"relu\", \n",
    "                         input_shape=(224, 224, 3)), # first layer specifies input shape (height, width, colour channels)\n",
    "  tf.keras.layers.Conv2D(10, 3, activation=\"relu\"),\n",
    "  tf.keras.layers.MaxPool2D(pool_size=2, # pool_size can also be (2, 2)\n",
    "                            padding=\"valid\"), # padding can also be 'same'\n",
    "  tf.keras.layers.Conv2D(10, 3, activation=\"relu\"),\n",
    "  tf.keras.layers.Conv2D(10, 3, activation=\"relu\"), # activation='relu' == tf.keras.layers.Activations(tf.nn.relu)\n",
    "  tf.keras.layers.MaxPool2D(2),\n",
    "  tf.keras.layers.Flatten(),\n",
    "  tf.keras.layers.Dense(1, activation=\"sigmoid\")\n",
    "  ])\n",
    "\n",
    "# Compile the model\n",
    "model_1.compile(loss='binary_crossentropy',\n",
    "              optimizer=tf.keras.optimizers.Adam(),\n",
    "              metrics=[\"accuracy\"])\n",
    "\n",
    "# Fit the model\n",
    "history_1 = model_1.fit(train_data,\n",
    "                        epochs=2,\n",
    "                        # steps_per_epoch=len(train_data),\n",
    "                        validation_data=valid_data,\n",
    "                        # validation_steps=len(valid_data)\n",
    "                       )"
   ]
  },
  {
   "cell_type": "code",
   "execution_count": 45,
   "id": "5467473e-594d-47aa-81c7-c2a9d2709394",
   "metadata": {},
   "outputs": [
    {
     "name": "stdout",
     "output_type": "stream",
     "text": [
      "Model: \"sequential_5\"\n",
      "_________________________________________________________________\n",
      " Layer (type)                Output Shape              Param #   \n",
      "=================================================================\n",
      " conv2d_20 (Conv2D)          (None, 222, 222, 4)       112       \n",
      "                                                                 \n",
      " conv2d_21 (Conv2D)          (None, 220, 220, 10)      370       \n",
      "                                                                 \n",
      " max_pooling2d_10 (MaxPoolin  (None, 110, 110, 10)     0         \n",
      " g2D)                                                            \n",
      "                                                                 \n",
      " conv2d_22 (Conv2D)          (None, 108, 108, 10)      910       \n",
      "                                                                 \n",
      " conv2d_23 (Conv2D)          (None, 106, 106, 10)      910       \n",
      "                                                                 \n",
      " max_pooling2d_11 (MaxPoolin  (None, 53, 53, 10)       0         \n",
      " g2D)                                                            \n",
      "                                                                 \n",
      " flatten_5 (Flatten)         (None, 28090)             0         \n",
      "                                                                 \n",
      " dense_5 (Dense)             (None, 1)                 28091     \n",
      "                                                                 \n",
      "=================================================================\n",
      "Total params: 30,393\n",
      "Trainable params: 30,393\n",
      "Non-trainable params: 0\n",
      "_________________________________________________________________\n"
     ]
    }
   ],
   "source": [
    "model_1.summary()"
   ]
  },
  {
   "cell_type": "code",
   "execution_count": 46,
   "id": "f32e3b03-ae41-44b3-be7d-8a189d900501",
   "metadata": {},
   "outputs": [
    {
     "name": "stdout",
     "output_type": "stream",
     "text": [
      "188/188 [==============================] - 66s 350ms/step - loss: 0.9266 - accuracy: 0.6493\n"
     ]
    },
    {
     "data": {
      "text/plain": [
       "[0.9266173243522644, 0.6493420004844666]"
      ]
     },
     "execution_count": 46,
     "metadata": {},
     "output_type": "execute_result"
    }
   ],
   "source": [
    "model_1.evaluate(valid_data)\n"
   ]
  },
  {
   "cell_type": "code",
   "execution_count": 47,
   "id": "f6299654-6f3e-420b-8096-b32b9f318c57",
   "metadata": {},
   "outputs": [],
   "source": [
    "import matplotlib.pyplot as plt\n",
    "import matplotlib.image as mpimg\n",
    "import random\n",
    "\n",
    "def plot_loss_curves(history):\n",
    "  loss = history.history['loss']\n",
    "  val_loss = history.history['val_loss']\n",
    "\n",
    "  accuracy = history.history['accuracy']\n",
    "  val_accuracy = history.history['val_accuracy']\n",
    "\n",
    "  epochs = range(len(history.history['loss']))\n",
    "\n",
    "  # Plot loss\n",
    "  plt.plot(epochs, loss, label='training_loss')\n",
    "  plt.plot(epochs, val_loss, label='val_loss')\n",
    "  plt.title('Loss')\n",
    "  plt.xlabel('Epochs')\n",
    "  plt.legend()\n",
    "\n",
    "  # Plot accuracy\n",
    "  plt.figure()\n",
    "  plt.plot(epochs, accuracy, label='training_accuracy')\n",
    "  plt.plot(epochs, val_accuracy, label='val_accuracy')\n",
    "  plt.title('Accuracy')\n",
    "  plt.xlabel('Epochs')\n",
    "  plt.legend()"
   ]
  },
  {
   "cell_type": "code",
   "execution_count": 48,
   "id": "848fc763-32ab-4898-848f-1bf7a78b7e6c",
   "metadata": {},
   "outputs": [
    {
     "data": {
      "image/png": "[encoded data removed]",
      "text/plain": [
       "<Figure size 432x288 with 1 Axes>"
      ]
     },
     "metadata": {
      "needs_background": "light"
     },
     "output_type": "display_data"
    },
    {
     "data": {
      "image/png": "[encoded data removed]",
      "text/plain": [
       "<Figure size 432x288 with 1 Axes>"
      ]
     },
     "metadata": {
      "needs_background": "light"
     },
     "output_type": "display_data"
    }
   ],
   "source": [
    "plot_loss_curves(history_1)"
   ]
  },
  {
   "cell_type": "code",
   "execution_count": null,
   "id": "81b1fd49-7c97-434b-b4fc-f4111679af36",
   "metadata": {},
   "outputs": [],
   "source": []
  },
  {
   "cell_type": "code",
   "execution_count": null,
   "id": "37472d1d-acf5-474a-98d5-fa18bb36f15a",
   "metadata": {},
   "outputs": [],
   "source": []
  },
  {
   "cell_type": "code",
   "execution_count": null,
   "id": "0a6e01f3-fa71-4140-90e0-ceaa82884819",
   "metadata": {},
   "outputs": [],
   "source": []
  }
 ],
 "metadata": {
  "kernelspec": {
   "display_name": "Python 3 (ipykernel)",
   "language": "python",
   "name": "python3"
  },
  "language_info": {
   "codemirror_mode": {
    "name": "ipython",
    "version": 3
   },
   "file_extension": ".py",
   "mimetype": "text/x-python",
   "name": "python",
   "nbconvert_exporter": "python",
   "pygments_lexer": "ipython3",
   "version": "3.9.9"
  }
 },
 "nbformat": 4,
 "nbformat_minor": 5
}
