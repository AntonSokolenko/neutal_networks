{
 "cells": [
  {
   "cell_type": "code",
   "execution_count": 19,
   "metadata": {},
   "outputs": [],
   "source": [
    "import pandas as pd"
   ]
  },
  {
   "cell_type": "markdown",
   "metadata": {},
   "source": [
    "### Data import:"
   ]
  },
  {
   "cell_type": "code",
   "execution_count": 20,
   "metadata": {},
   "outputs": [
    {
     "data": {
      "text/html": [
       "<div>\n",
       "<style scoped>\n",
       "    .dataframe tbody tr th:only-of-type {\n",
       "        vertical-align: middle;\n",
       "    }\n",
       "\n",
       "    .dataframe tbody tr th {\n",
       "        vertical-align: top;\n",
       "    }\n",
       "\n",
       "    .dataframe thead th {\n",
       "        text-align: right;\n",
       "    }\n",
       "</style>\n",
       "<table border=\"1\" class=\"dataframe\">\n",
       "  <thead>\n",
       "    <tr style=\"text-align: right;\">\n",
       "      <th></th>\n",
       "      <th>x0</th>\n",
       "      <th>x1</th>\n",
       "      <th>x2</th>\n",
       "      <th>x3</th>\n",
       "      <th>x4</th>\n",
       "      <th>x5</th>\n",
       "      <th>x6</th>\n",
       "      <th>x7</th>\n",
       "      <th>x8</th>\n",
       "      <th>x9</th>\n",
       "      <th>x10</th>\n",
       "      <th>x11</th>\n",
       "      <th>x12</th>\n",
       "      <th>x13</th>\n",
       "      <th>x14</th>\n",
       "      <th>x15</th>\n",
       "      <th>x16</th>\n",
       "      <th>x17</th>\n",
       "      <th>y</th>\n",
       "    </tr>\n",
       "  </thead>\n",
       "  <tbody>\n",
       "    <tr>\n",
       "      <th>0</th>\n",
       "      <td>1.653679</td>\n",
       "      <td>-0.746889</td>\n",
       "      <td>-0.298964</td>\n",
       "      <td>-0.543487</td>\n",
       "      <td>-0.644818</td>\n",
       "      <td>0.345664</td>\n",
       "      <td>2.327697</td>\n",
       "      <td>2.071626</td>\n",
       "      <td>-1.044086</td>\n",
       "      <td>-1.525830</td>\n",
       "      <td>-0.449475</td>\n",
       "      <td>-1.120825</td>\n",
       "      <td>-0.943775</td>\n",
       "      <td>0.443175</td>\n",
       "      <td>-0.643881</td>\n",
       "      <td>-0.503556</td>\n",
       "      <td>0.204112</td>\n",
       "      <td>-0.284487</td>\n",
       "      <td>470.228059</td>\n",
       "    </tr>\n",
       "    <tr>\n",
       "      <th>1</th>\n",
       "      <td>0.209961</td>\n",
       "      <td>3.053029</td>\n",
       "      <td>-1.734453</td>\n",
       "      <td>0.591991</td>\n",
       "      <td>-0.407519</td>\n",
       "      <td>0.626933</td>\n",
       "      <td>1.357778</td>\n",
       "      <td>0.410643</td>\n",
       "      <td>-1.418856</td>\n",
       "      <td>-0.825092</td>\n",
       "      <td>-0.126061</td>\n",
       "      <td>-1.642561</td>\n",
       "      <td>0.000370</td>\n",
       "      <td>0.468634</td>\n",
       "      <td>-1.483681</td>\n",
       "      <td>1.473696</td>\n",
       "      <td>2.524943</td>\n",
       "      <td>-0.318674</td>\n",
       "      <td>602.711193</td>\n",
       "    </tr>\n",
       "    <tr>\n",
       "      <th>2</th>\n",
       "      <td>0.759435</td>\n",
       "      <td>0.687944</td>\n",
       "      <td>0.977774</td>\n",
       "      <td>-0.546503</td>\n",
       "      <td>-0.850831</td>\n",
       "      <td>-0.032988</td>\n",
       "      <td>0.296674</td>\n",
       "      <td>1.102709</td>\n",
       "      <td>-0.067525</td>\n",
       "      <td>1.178579</td>\n",
       "      <td>-1.876222</td>\n",
       "      <td>-0.505624</td>\n",
       "      <td>0.967513</td>\n",
       "      <td>0.370529</td>\n",
       "      <td>-0.684466</td>\n",
       "      <td>-0.144731</td>\n",
       "      <td>-1.128735</td>\n",
       "      <td>1.923846</td>\n",
       "      <td>157.178117</td>\n",
       "    </tr>\n",
       "    <tr>\n",
       "      <th>3</th>\n",
       "      <td>-1.812731</td>\n",
       "      <td>-1.334227</td>\n",
       "      <td>-0.371806</td>\n",
       "      <td>0.171959</td>\n",
       "      <td>-0.562517</td>\n",
       "      <td>-1.026563</td>\n",
       "      <td>-0.571097</td>\n",
       "      <td>-1.073814</td>\n",
       "      <td>0.824088</td>\n",
       "      <td>0.947917</td>\n",
       "      <td>-1.582386</td>\n",
       "      <td>-0.537736</td>\n",
       "      <td>0.830879</td>\n",
       "      <td>0.723716</td>\n",
       "      <td>1.600332</td>\n",
       "      <td>0.294144</td>\n",
       "      <td>1.494487</td>\n",
       "      <td>0.215680</td>\n",
       "      <td>72.435381</td>\n",
       "    </tr>\n",
       "    <tr>\n",
       "      <th>4</th>\n",
       "      <td>-1.358462</td>\n",
       "      <td>0.247225</td>\n",
       "      <td>0.866385</td>\n",
       "      <td>-0.500814</td>\n",
       "      <td>-1.033480</td>\n",
       "      <td>0.425426</td>\n",
       "      <td>0.996926</td>\n",
       "      <td>-0.337577</td>\n",
       "      <td>-0.568433</td>\n",
       "      <td>-0.141612</td>\n",
       "      <td>0.204713</td>\n",
       "      <td>0.660641</td>\n",
       "      <td>0.539554</td>\n",
       "      <td>0.055303</td>\n",
       "      <td>-1.558968</td>\n",
       "      <td>0.344481</td>\n",
       "      <td>-1.075836</td>\n",
       "      <td>0.105213</td>\n",
       "      <td>-3.215103</td>\n",
       "    </tr>\n",
       "  </tbody>\n",
       "</table>\n",
       "</div>"
      ],
      "text/plain": [
       "         x0        x1        x2        x3        x4        x5        x6  \\\n",
       "0  1.653679 -0.746889 -0.298964 -0.543487 -0.644818  0.345664  2.327697   \n",
       "1  0.209961  3.053029 -1.734453  0.591991 -0.407519  0.626933  1.357778   \n",
       "2  0.759435  0.687944  0.977774 -0.546503 -0.850831 -0.032988  0.296674   \n",
       "3 -1.812731 -1.334227 -0.371806  0.171959 -0.562517 -1.026563 -0.571097   \n",
       "4 -1.358462  0.247225  0.866385 -0.500814 -1.033480  0.425426  0.996926   \n",
       "\n",
       "         x7        x8        x9       x10       x11       x12       x13  \\\n",
       "0  2.071626 -1.044086 -1.525830 -0.449475 -1.120825 -0.943775  0.443175   \n",
       "1  0.410643 -1.418856 -0.825092 -0.126061 -1.642561  0.000370  0.468634   \n",
       "2  1.102709 -0.067525  1.178579 -1.876222 -0.505624  0.967513  0.370529   \n",
       "3 -1.073814  0.824088  0.947917 -1.582386 -0.537736  0.830879  0.723716   \n",
       "4 -0.337577 -0.568433 -0.141612  0.204713  0.660641  0.539554  0.055303   \n",
       "\n",
       "        x14       x15       x16       x17           y  \n",
       "0 -0.643881 -0.503556  0.204112 -0.284487  470.228059  \n",
       "1 -1.483681  1.473696  2.524943 -0.318674  602.711193  \n",
       "2 -0.684466 -0.144731 -1.128735  1.923846  157.178117  \n",
       "3  1.600332  0.294144  1.494487  0.215680   72.435381  \n",
       "4 -1.558968  0.344481 -1.075836  0.105213   -3.215103  "
      ]
     },
     "execution_count": 20,
     "metadata": {},
     "output_type": "execute_result"
    }
   ],
   "source": [
    "df = pd.read_csv('data.csv', sep=';')\n",
    "df.head()"
   ]
  },
  {
   "cell_type": "markdown",
   "metadata": {},
   "source": [
    "### X-Y split:"
   ]
  },
  {
   "cell_type": "code",
   "execution_count": 21,
   "metadata": {},
   "outputs": [],
   "source": [
    "X_df = df.iloc[:,:-1]\n",
    "y_df = df.iloc[:,-1]"
   ]
  },
  {
   "cell_type": "markdown",
   "metadata": {},
   "source": [
    "### Train-test split:"
   ]
  },
  {
   "cell_type": "code",
   "execution_count": 22,
   "metadata": {},
   "outputs": [],
   "source": [
    "from sklearn.model_selection import train_test_split\n",
    "\n",
    "X_train, X_test, y_train, y_test = train_test_split(X_df, y_df, train_size=0.67, random_state=42)"
   ]
  },
  {
   "cell_type": "markdown",
   "metadata": {},
   "source": [
    "### Model:"
   ]
  },
  {
   "cell_type": "code",
   "execution_count": 23,
   "metadata": {},
   "outputs": [],
   "source": [
    "from sklearn.linear_model import LinearRegression\n",
    "\n",
    "model = LinearRegression().fit(X_train, y_train)\n",
    "y_pred = model.predict(X_test)"
   ]
  },
  {
   "cell_type": "code",
   "execution_count": 24,
   "metadata": {},
   "outputs": [
    {
     "data": {
      "text/plain": [
       "array([ 65.56509855,  63.38326562,  48.24079433, ...,   4.00071005,\n",
       "        63.76084272, 305.12049389])"
      ]
     },
     "execution_count": 24,
     "metadata": {},
     "output_type": "execute_result"
    }
   ],
   "source": [
    "y_pred"
   ]
  },
  {
   "cell_type": "markdown",
   "metadata": {},
   "source": [
    "### Vizualization:"
   ]
  },
  {
   "cell_type": "code",
   "execution_count": 29,
   "metadata": {},
   "outputs": [
    {
     "data": {
      "image/png": "[encoded data removed]",
      "text/plain": [
       "<Figure size 1600x800 with 2 Axes>"
      ]
     },
     "metadata": {
      "needs_background": "light"
     },
     "output_type": "display_data"
    }
   ],
   "source": [
    "import numpy as np\n",
    "import matplotlib.pyplot as plt\n",
    "%matplotlib inline\n",
    "from matplotlib.pyplot import figure\n",
    "figure(figsize=(20, 10), dpi=80)\n",
    "\n",
    "X_graph = np.arange(len(y_test))\n",
    "\n",
    "plt.scatter(X_graph, y_test, color = 'olive')\n",
    "plt.scatter(X_graph, y_pred, color = 'palevioletred')\n",
    "ax = plt.axes()\n",
    "ax.set_facecolor(\"white\")\n",
    "plt.ylabel(\"Y\")\n",
    "plt.xlabel(\"X\")\n",
    "plt.show()"
   ]
  },
  {
   "cell_type": "markdown",
   "metadata": {},
   "source": [
    "### MSE:"
   ]
  },
  {
   "cell_type": "code",
   "execution_count": 32,
   "metadata": {},
   "outputs": [
    {
     "data": {
      "text/plain": [
       "0.8014728345211556"
      ]
     },
     "execution_count": 32,
     "metadata": {},
     "output_type": "execute_result"
    }
   ],
   "source": [
    "from sklearn.metrics import mean_squared_error\n",
    "mean_squared_error(y_test, y_pred)"
   ]
  },
  {
   "cell_type": "markdown",
   "metadata": {},
   "source": []
  },
  {
   "cell_type": "markdown",
   "metadata": {},
   "source": []
  }
 ],
 "metadata": {
  "kernelspec": {
   "display_name": "Python 3 (ipykernel)",
   "language": "python",
   "name": "python3"
  },
  "language_info": {
   "codemirror_mode": {
    "name": "ipython",
    "version": 3
   },
   "file_extension": ".py",
   "mimetype": "text/x-python",
   "name": "python",
   "nbconvert_exporter": "python",
   "pygments_lexer": "ipython3",
   "version": "3.10.0"
  }
 },
 "nbformat": 4,
 "nbformat_minor": 4
}
